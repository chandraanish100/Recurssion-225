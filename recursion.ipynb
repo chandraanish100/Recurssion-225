{
 "cells": [
  {
   "cell_type": "code",
   "execution_count": 1,
   "id": "68442760-a326-4eef-8311-6b61c7fb7485",
   "metadata": {},
   "outputs": [
    {
     "name": "stdout",
     "output_type": "stream",
     "text": [
      "6\n"
     ]
    }
   ],
   "source": [
    "def sum_of_digits(n):\n",
    "    if n == 0:\n",
    "        return 0\n",
    "    return n % 10 + sum_of_digits(n // 10)\n",
    "\n",
    "# Example usage\n",
    "print(sum_of_digits(123))  # Output: 6"
   ]
  },
  {
   "cell_type": "code",
   "execution_count": 2,
   "id": "0d49f27c-72f9-4cd8-b0cc-b9ad7a8fba56",
   "metadata": {},
   "outputs": [
    {
     "name": "stdout",
     "output_type": "stream",
     "text": [
      "[0, 1, 1, 2, 3, 5]\n"
     ]
    }
   ],
   "source": [
    "def fibonacci_series(n):\n",
    "    def fibonacci_helper(a, b, count):\n",
    "        if count == 0:\n",
    "            return []\n",
    "        return [a] + fibonacci_helper(b, a + b, count - 1)\n",
    "\n",
    "    return fibonacci_helper(0, 1, n)\n",
    "\n",
    "# Example usage\n",
    "print(fibonacci_series(6))  # Output: [0, 1, 1, 2, 3, 5]"
   ]
  },
  {
   "cell_type": "code",
   "execution_count": 3,
   "id": "d22cbfd0-89a7-4578-8de7-b341ec77f0e6",
   "metadata": {},
   "outputs": [
    {
     "name": "stdout",
     "output_type": "stream",
     "text": [
      "True\n"
     ]
    }
   ],
   "source": [
    "def subset_sum(nums, target):\n",
    "    def helper(index, current_sum):\n",
    "        if current_sum == target:\n",
    "            return True\n",
    "        if index >= len(nums) or current_sum > target:\n",
    "            return False\n",
    "        # Include the current number or exclude it\n",
    "        return helper(index + 1, current_sum + nums[index]) or helper(index + 1, current_sum)\n",
    "\n",
    "    return helper(0, 0)\n",
    "\n",
    "# Example usage\n",
    "print(subset_sum([3, 34, 4, 12, 5, 2], 9))  # Output: True"
   ]
  },
  {
   "cell_type": "code",
   "execution_count": 4,
   "id": "00059517-6d0b-4567-ada1-a0cd686a1541",
   "metadata": {},
   "outputs": [
    {
     "name": "stdout",
     "output_type": "stream",
     "text": [
      "True\n"
     ]
    }
   ],
   "source": [
    "def word_break(s, word_dict):\n",
    "    def helper(start):\n",
    "        if start == len(s):\n",
    "            return True\n",
    "        for end in range(start + 1, len(s) + 1):\n",
    "            if s[start:end] in word_dict and helper(end):\n",
    "                return True\n",
    "        return False\n",
    "\n",
    "    return helper(0)\n",
    "\n",
    "# Example usage\n",
    "print(word_break(\"leetcode\", [\"leet\", \"code\"]))  # Output: True"
   ]
  },
  {
   "cell_type": "code",
   "execution_count": 5,
   "id": "55d90e77-d10d-4405-bc2b-fa9f4fe2ae71",
   "metadata": {},
   "outputs": [
    {
     "name": "stdout",
     "output_type": "stream",
     "text": [
      "[['.Q..', '...Q', 'Q...', '..Q.'], ['..Q.', 'Q...', '...Q', '.Q..']]\n"
     ]
    }
   ],
   "source": [
    "def n_queens(n):\n",
    "    def is_safe(board, row, col):\n",
    "        for i in range(row):\n",
    "            if board[i] == col or \\\n",
    "               board[i] - i == col - row or \\\n",
    "               board[i] + i == col + row:\n",
    "                return False\n",
    "        return True\n",
    "\n",
    "    def solve_n_queens(row):\n",
    "        if row == n:\n",
    "            result.append(board[:])\n",
    "            return\n",
    "        for col in range(n):\n",
    "            if is_safe(board, row, col):\n",
    "                board[row] = col\n",
    "                solve_n_queens(row + 1)\n",
    "\n",
    "    result = []\n",
    "    board = [-1] * n  # Initialize the board\n",
    "    solve_n_queens(0)\n",
    "    \n",
    "    # Format the result for output\n",
    "    formatted_result = []\n",
    "    for solution in result:\n",
    "        formatted_solution = []\n",
    "        for i in range(n):\n",
    "            row = ['.'] * n\n",
    "            row[solution[i]] = 'Q'\n",
    "            formatted_solution.append(''.join(row))\n",
    "        formatted_result.append(formatted_solution)\n",
    "    \n",
    "    return formatted_result\n",
    "\n",
    "# Example usage\n",
    "print(n_queens(4))"
   ]
  },
  {
   "cell_type": "code",
   "execution_count": null,
   "id": "986bce0f-9c49-4100-8a91-38c258843051",
   "metadata": {},
   "outputs": [],
   "source": []
  }
 ],
 "metadata": {
  "kernelspec": {
   "display_name": "Python 3 (ipykernel)",
   "language": "python",
   "name": "python3"
  },
  "language_info": {
   "codemirror_mode": {
    "name": "ipython",
    "version": 3
   },
   "file_extension": ".py",
   "mimetype": "text/x-python",
   "name": "python",
   "nbconvert_exporter": "python",
   "pygments_lexer": "ipython3",
   "version": "3.10.8"
  }
 },
 "nbformat": 4,
 "nbformat_minor": 5
}
